{
 "cells": [
  {
   "cell_type": "markdown",
   "metadata": {},
   "source": [
    "# Imports"
   ]
  },
  {
   "cell_type": "code",
   "execution_count": 91,
   "metadata": {},
   "outputs": [],
   "source": [
    "import pandas as pd\n",
    "import numpy as np\n",
    "import seaborn as sns\n",
    "import matplotlib \n",
    "import matplotlib.pyplot as plt\n",
    "matplotlib.rcParams['figure.figsize'] = (15, 8)"
   ]
  },
  {
   "cell_type": "code",
   "execution_count": 41,
   "metadata": {},
   "outputs": [
    {
     "data": {
      "text/html": [
       "<div>\n",
       "<style scoped>\n",
       "    .dataframe tbody tr th:only-of-type {\n",
       "        vertical-align: middle;\n",
       "    }\n",
       "\n",
       "    .dataframe tbody tr th {\n",
       "        vertical-align: top;\n",
       "    }\n",
       "\n",
       "    .dataframe thead th {\n",
       "        text-align: right;\n",
       "    }\n",
       "</style>\n",
       "<table border=\"1\" class=\"dataframe\">\n",
       "  <thead>\n",
       "    <tr style=\"text-align: right;\">\n",
       "      <th></th>\n",
       "      <th>RT</th>\n",
       "      <th>SERIALNO</th>\n",
       "      <th>DIVISION</th>\n",
       "      <th>PUMA</th>\n",
       "      <th>REGION</th>\n",
       "      <th>ST</th>\n",
       "      <th>ADJUST</th>\n",
       "      <th>WGTP</th>\n",
       "      <th>NP</th>\n",
       "      <th>TYPE</th>\n",
       "      <th>...</th>\n",
       "      <th>wgtp71</th>\n",
       "      <th>wgtp72</th>\n",
       "      <th>wgtp73</th>\n",
       "      <th>wgtp74</th>\n",
       "      <th>wgtp75</th>\n",
       "      <th>wgtp76</th>\n",
       "      <th>wgtp77</th>\n",
       "      <th>wgtp78</th>\n",
       "      <th>wgtp79</th>\n",
       "      <th>wgtp80</th>\n",
       "    </tr>\n",
       "  </thead>\n",
       "  <tbody>\n",
       "    <tr>\n",
       "      <th>0</th>\n",
       "      <td>H</td>\n",
       "      <td>186</td>\n",
       "      <td>8</td>\n",
       "      <td>700</td>\n",
       "      <td>4</td>\n",
       "      <td>16</td>\n",
       "      <td>1015675</td>\n",
       "      <td>89</td>\n",
       "      <td>4</td>\n",
       "      <td>1</td>\n",
       "      <td>...</td>\n",
       "      <td>81</td>\n",
       "      <td>27</td>\n",
       "      <td>93</td>\n",
       "      <td>151</td>\n",
       "      <td>28</td>\n",
       "      <td>79</td>\n",
       "      <td>25</td>\n",
       "      <td>101</td>\n",
       "      <td>157</td>\n",
       "      <td>129</td>\n",
       "    </tr>\n",
       "    <tr>\n",
       "      <th>1</th>\n",
       "      <td>H</td>\n",
       "      <td>306</td>\n",
       "      <td>8</td>\n",
       "      <td>700</td>\n",
       "      <td>4</td>\n",
       "      <td>16</td>\n",
       "      <td>1015675</td>\n",
       "      <td>310</td>\n",
       "      <td>1</td>\n",
       "      <td>1</td>\n",
       "      <td>...</td>\n",
       "      <td>292</td>\n",
       "      <td>401</td>\n",
       "      <td>81</td>\n",
       "      <td>494</td>\n",
       "      <td>346</td>\n",
       "      <td>496</td>\n",
       "      <td>615</td>\n",
       "      <td>286</td>\n",
       "      <td>454</td>\n",
       "      <td>260</td>\n",
       "    </tr>\n",
       "    <tr>\n",
       "      <th>2</th>\n",
       "      <td>H</td>\n",
       "      <td>395</td>\n",
       "      <td>8</td>\n",
       "      <td>100</td>\n",
       "      <td>4</td>\n",
       "      <td>16</td>\n",
       "      <td>1015675</td>\n",
       "      <td>106</td>\n",
       "      <td>2</td>\n",
       "      <td>1</td>\n",
       "      <td>...</td>\n",
       "      <td>123</td>\n",
       "      <td>119</td>\n",
       "      <td>168</td>\n",
       "      <td>107</td>\n",
       "      <td>95</td>\n",
       "      <td>101</td>\n",
       "      <td>30</td>\n",
       "      <td>124</td>\n",
       "      <td>106</td>\n",
       "      <td>31</td>\n",
       "    </tr>\n",
       "    <tr>\n",
       "      <th>3</th>\n",
       "      <td>H</td>\n",
       "      <td>506</td>\n",
       "      <td>8</td>\n",
       "      <td>700</td>\n",
       "      <td>4</td>\n",
       "      <td>16</td>\n",
       "      <td>1015675</td>\n",
       "      <td>240</td>\n",
       "      <td>4</td>\n",
       "      <td>1</td>\n",
       "      <td>...</td>\n",
       "      <td>68</td>\n",
       "      <td>359</td>\n",
       "      <td>385</td>\n",
       "      <td>71</td>\n",
       "      <td>234</td>\n",
       "      <td>421</td>\n",
       "      <td>76</td>\n",
       "      <td>77</td>\n",
       "      <td>242</td>\n",
       "      <td>231</td>\n",
       "    </tr>\n",
       "    <tr>\n",
       "      <th>4</th>\n",
       "      <td>H</td>\n",
       "      <td>835</td>\n",
       "      <td>8</td>\n",
       "      <td>800</td>\n",
       "      <td>4</td>\n",
       "      <td>16</td>\n",
       "      <td>1015675</td>\n",
       "      <td>118</td>\n",
       "      <td>4</td>\n",
       "      <td>1</td>\n",
       "      <td>...</td>\n",
       "      <td>127</td>\n",
       "      <td>36</td>\n",
       "      <td>119</td>\n",
       "      <td>121</td>\n",
       "      <td>116</td>\n",
       "      <td>209</td>\n",
       "      <td>97</td>\n",
       "      <td>176</td>\n",
       "      <td>144</td>\n",
       "      <td>38</td>\n",
       "    </tr>\n",
       "    <tr>\n",
       "      <th>...</th>\n",
       "      <td>...</td>\n",
       "      <td>...</td>\n",
       "      <td>...</td>\n",
       "      <td>...</td>\n",
       "      <td>...</td>\n",
       "      <td>...</td>\n",
       "      <td>...</td>\n",
       "      <td>...</td>\n",
       "      <td>...</td>\n",
       "      <td>...</td>\n",
       "      <td>...</td>\n",
       "      <td>...</td>\n",
       "      <td>...</td>\n",
       "      <td>...</td>\n",
       "      <td>...</td>\n",
       "      <td>...</td>\n",
       "      <td>...</td>\n",
       "      <td>...</td>\n",
       "      <td>...</td>\n",
       "      <td>...</td>\n",
       "      <td>...</td>\n",
       "    </tr>\n",
       "    <tr>\n",
       "      <th>6491</th>\n",
       "      <td>H</td>\n",
       "      <td>1357238</td>\n",
       "      <td>8</td>\n",
       "      <td>300</td>\n",
       "      <td>4</td>\n",
       "      <td>16</td>\n",
       "      <td>1015675</td>\n",
       "      <td>108</td>\n",
       "      <td>2</td>\n",
       "      <td>1</td>\n",
       "      <td>...</td>\n",
       "      <td>198</td>\n",
       "      <td>88</td>\n",
       "      <td>112</td>\n",
       "      <td>26</td>\n",
       "      <td>64</td>\n",
       "      <td>106</td>\n",
       "      <td>142</td>\n",
       "      <td>106</td>\n",
       "      <td>33</td>\n",
       "      <td>111</td>\n",
       "    </tr>\n",
       "    <tr>\n",
       "      <th>6492</th>\n",
       "      <td>H</td>\n",
       "      <td>1357340</td>\n",
       "      <td>8</td>\n",
       "      <td>400</td>\n",
       "      <td>4</td>\n",
       "      <td>16</td>\n",
       "      <td>1015675</td>\n",
       "      <td>58</td>\n",
       "      <td>2</td>\n",
       "      <td>1</td>\n",
       "      <td>...</td>\n",
       "      <td>66</td>\n",
       "      <td>101</td>\n",
       "      <td>62</td>\n",
       "      <td>52</td>\n",
       "      <td>105</td>\n",
       "      <td>75</td>\n",
       "      <td>20</td>\n",
       "      <td>127</td>\n",
       "      <td>105</td>\n",
       "      <td>68</td>\n",
       "    </tr>\n",
       "    <tr>\n",
       "      <th>6493</th>\n",
       "      <td>H</td>\n",
       "      <td>1357874</td>\n",
       "      <td>8</td>\n",
       "      <td>900</td>\n",
       "      <td>4</td>\n",
       "      <td>16</td>\n",
       "      <td>1015675</td>\n",
       "      <td>32</td>\n",
       "      <td>2</td>\n",
       "      <td>1</td>\n",
       "      <td>...</td>\n",
       "      <td>7</td>\n",
       "      <td>8</td>\n",
       "      <td>12</td>\n",
       "      <td>37</td>\n",
       "      <td>44</td>\n",
       "      <td>36</td>\n",
       "      <td>28</td>\n",
       "      <td>33</td>\n",
       "      <td>48</td>\n",
       "      <td>59</td>\n",
       "    </tr>\n",
       "    <tr>\n",
       "      <th>6494</th>\n",
       "      <td>H</td>\n",
       "      <td>1357880</td>\n",
       "      <td>8</td>\n",
       "      <td>500</td>\n",
       "      <td>4</td>\n",
       "      <td>16</td>\n",
       "      <td>1015675</td>\n",
       "      <td>123</td>\n",
       "      <td>2</td>\n",
       "      <td>1</td>\n",
       "      <td>...</td>\n",
       "      <td>201</td>\n",
       "      <td>123</td>\n",
       "      <td>38</td>\n",
       "      <td>104</td>\n",
       "      <td>186</td>\n",
       "      <td>203</td>\n",
       "      <td>132</td>\n",
       "      <td>118</td>\n",
       "      <td>201</td>\n",
       "      <td>125</td>\n",
       "    </tr>\n",
       "    <tr>\n",
       "      <th>6495</th>\n",
       "      <td>H</td>\n",
       "      <td>1358490</td>\n",
       "      <td>8</td>\n",
       "      <td>700</td>\n",
       "      <td>4</td>\n",
       "      <td>16</td>\n",
       "      <td>1015675</td>\n",
       "      <td>353</td>\n",
       "      <td>2</td>\n",
       "      <td>1</td>\n",
       "      <td>...</td>\n",
       "      <td>312</td>\n",
       "      <td>558</td>\n",
       "      <td>372</td>\n",
       "      <td>102</td>\n",
       "      <td>108</td>\n",
       "      <td>381</td>\n",
       "      <td>340</td>\n",
       "      <td>114</td>\n",
       "      <td>563</td>\n",
       "      <td>358</td>\n",
       "    </tr>\n",
       "  </tbody>\n",
       "</table>\n",
       "<p>6496 rows × 188 columns</p>\n",
       "</div>"
      ],
      "text/plain": [
       "     RT  SERIALNO  DIVISION  PUMA  REGION  ST   ADJUST  WGTP  NP  TYPE  ...  \\\n",
       "0     H       186         8   700       4  16  1015675    89   4     1  ...   \n",
       "1     H       306         8   700       4  16  1015675   310   1     1  ...   \n",
       "2     H       395         8   100       4  16  1015675   106   2     1  ...   \n",
       "3     H       506         8   700       4  16  1015675   240   4     1  ...   \n",
       "4     H       835         8   800       4  16  1015675   118   4     1  ...   \n",
       "...  ..       ...       ...   ...     ...  ..      ...   ...  ..   ...  ...   \n",
       "6491  H   1357238         8   300       4  16  1015675   108   2     1  ...   \n",
       "6492  H   1357340         8   400       4  16  1015675    58   2     1  ...   \n",
       "6493  H   1357874         8   900       4  16  1015675    32   2     1  ...   \n",
       "6494  H   1357880         8   500       4  16  1015675   123   2     1  ...   \n",
       "6495  H   1358490         8   700       4  16  1015675   353   2     1  ...   \n",
       "\n",
       "      wgtp71  wgtp72  wgtp73  wgtp74  wgtp75  wgtp76  wgtp77  wgtp78  wgtp79  \\\n",
       "0         81      27      93     151      28      79      25     101     157   \n",
       "1        292     401      81     494     346     496     615     286     454   \n",
       "2        123     119     168     107      95     101      30     124     106   \n",
       "3         68     359     385      71     234     421      76      77     242   \n",
       "4        127      36     119     121     116     209      97     176     144   \n",
       "...      ...     ...     ...     ...     ...     ...     ...     ...     ...   \n",
       "6491     198      88     112      26      64     106     142     106      33   \n",
       "6492      66     101      62      52     105      75      20     127     105   \n",
       "6493       7       8      12      37      44      36      28      33      48   \n",
       "6494     201     123      38     104     186     203     132     118     201   \n",
       "6495     312     558     372     102     108     381     340     114     563   \n",
       "\n",
       "      wgtp80  \n",
       "0        129  \n",
       "1        260  \n",
       "2         31  \n",
       "3        231  \n",
       "4         38  \n",
       "...      ...  \n",
       "6491     111  \n",
       "6492      68  \n",
       "6493      59  \n",
       "6494     125  \n",
       "6495     358  \n",
       "\n",
       "[6496 rows x 188 columns]"
      ]
     },
     "execution_count": 41,
     "metadata": {},
     "output_type": "execute_result"
    }
   ],
   "source": [
    "housing_df = pd.read_csv(\"./HW2_Housing_Survey.csv\")\n",
    "housing_df"
   ]
  },
  {
   "cell_type": "code",
   "execution_count": 154,
   "metadata": {},
   "outputs": [
    {
     "data": {
      "text/html": [
       "<div>\n",
       "<style scoped>\n",
       "    .dataframe tbody tr th:only-of-type {\n",
       "        vertical-align: middle;\n",
       "    }\n",
       "\n",
       "    .dataframe tbody tr th {\n",
       "        vertical-align: top;\n",
       "    }\n",
       "\n",
       "    .dataframe thead th {\n",
       "        text-align: right;\n",
       "    }\n",
       "</style>\n",
       "<table border=\"1\" class=\"dataframe\">\n",
       "  <thead>\n",
       "    <tr style=\"text-align: right;\">\n",
       "      <th></th>\n",
       "      <th>SERIALNO</th>\n",
       "      <th>DIVISION</th>\n",
       "      <th>PUMA</th>\n",
       "      <th>REGION</th>\n",
       "      <th>ST</th>\n",
       "      <th>ADJUST</th>\n",
       "      <th>WGTP</th>\n",
       "      <th>NP</th>\n",
       "      <th>TYPE</th>\n",
       "      <th>ACR</th>\n",
       "      <th>...</th>\n",
       "      <th>wgtp71</th>\n",
       "      <th>wgtp72</th>\n",
       "      <th>wgtp73</th>\n",
       "      <th>wgtp74</th>\n",
       "      <th>wgtp75</th>\n",
       "      <th>wgtp76</th>\n",
       "      <th>wgtp77</th>\n",
       "      <th>wgtp78</th>\n",
       "      <th>wgtp79</th>\n",
       "      <th>wgtp80</th>\n",
       "    </tr>\n",
       "  </thead>\n",
       "  <tbody>\n",
       "    <tr>\n",
       "      <th>count</th>\n",
       "      <td>6.496000e+03</td>\n",
       "      <td>6496.0</td>\n",
       "      <td>6496.000000</td>\n",
       "      <td>6496.0</td>\n",
       "      <td>6496.0</td>\n",
       "      <td>6496.0</td>\n",
       "      <td>6496.000000</td>\n",
       "      <td>6496.000000</td>\n",
       "      <td>6496.000000</td>\n",
       "      <td>5501.000000</td>\n",
       "      <td>...</td>\n",
       "      <td>6496.000000</td>\n",
       "      <td>6496.00000</td>\n",
       "      <td>6496.00000</td>\n",
       "      <td>6496.000000</td>\n",
       "      <td>6496.000000</td>\n",
       "      <td>6496.000000</td>\n",
       "      <td>6496.000000</td>\n",
       "      <td>6496.000000</td>\n",
       "      <td>6496.000000</td>\n",
       "      <td>6496.000000</td>\n",
       "    </tr>\n",
       "    <tr>\n",
       "      <th>mean</th>\n",
       "      <td>6.841337e+05</td>\n",
       "      <td>8.0</td>\n",
       "      <td>486.222291</td>\n",
       "      <td>4.0</td>\n",
       "      <td>16.0</td>\n",
       "      <td>1015675.0</td>\n",
       "      <td>94.781866</td>\n",
       "      <td>2.298491</td>\n",
       "      <td>1.069581</td>\n",
       "      <td>1.357026</td>\n",
       "      <td>...</td>\n",
       "      <td>94.791564</td>\n",
       "      <td>94.77694</td>\n",
       "      <td>94.77186</td>\n",
       "      <td>94.780172</td>\n",
       "      <td>94.769243</td>\n",
       "      <td>94.786330</td>\n",
       "      <td>94.783867</td>\n",
       "      <td>94.773399</td>\n",
       "      <td>94.775400</td>\n",
       "      <td>94.777401</td>\n",
       "    </tr>\n",
       "    <tr>\n",
       "      <th>std</th>\n",
       "      <td>3.906547e+05</td>\n",
       "      <td>0.0</td>\n",
       "      <td>270.498896</td>\n",
       "      <td>0.0</td>\n",
       "      <td>0.0</td>\n",
       "      <td>0.0</td>\n",
       "      <td>73.523809</td>\n",
       "      <td>1.563549</td>\n",
       "      <td>0.315509</td>\n",
       "      <td>0.624471</td>\n",
       "      <td>...</td>\n",
       "      <td>92.988570</td>\n",
       "      <td>95.56488</td>\n",
       "      <td>91.49636</td>\n",
       "      <td>93.275930</td>\n",
       "      <td>92.415760</td>\n",
       "      <td>92.950416</td>\n",
       "      <td>92.465471</td>\n",
       "      <td>94.253192</td>\n",
       "      <td>92.665848</td>\n",
       "      <td>97.097489</td>\n",
       "    </tr>\n",
       "    <tr>\n",
       "      <th>min</th>\n",
       "      <td>1.860000e+02</td>\n",
       "      <td>8.0</td>\n",
       "      <td>100.000000</td>\n",
       "      <td>4.0</td>\n",
       "      <td>16.0</td>\n",
       "      <td>1015675.0</td>\n",
       "      <td>0.000000</td>\n",
       "      <td>0.000000</td>\n",
       "      <td>1.000000</td>\n",
       "      <td>1.000000</td>\n",
       "      <td>...</td>\n",
       "      <td>0.000000</td>\n",
       "      <td>0.00000</td>\n",
       "      <td>0.00000</td>\n",
       "      <td>0.000000</td>\n",
       "      <td>0.000000</td>\n",
       "      <td>0.000000</td>\n",
       "      <td>0.000000</td>\n",
       "      <td>0.000000</td>\n",
       "      <td>0.000000</td>\n",
       "      <td>0.000000</td>\n",
       "    </tr>\n",
       "    <tr>\n",
       "      <th>25%</th>\n",
       "      <td>3.464415e+05</td>\n",
       "      <td>8.0</td>\n",
       "      <td>300.000000</td>\n",
       "      <td>4.0</td>\n",
       "      <td>16.0</td>\n",
       "      <td>1015675.0</td>\n",
       "      <td>50.000000</td>\n",
       "      <td>1.000000</td>\n",
       "      <td>1.000000</td>\n",
       "      <td>1.000000</td>\n",
       "      <td>...</td>\n",
       "      <td>30.000000</td>\n",
       "      <td>29.00000</td>\n",
       "      <td>31.00000</td>\n",
       "      <td>30.000000</td>\n",
       "      <td>30.000000</td>\n",
       "      <td>30.000000</td>\n",
       "      <td>30.000000</td>\n",
       "      <td>30.000000</td>\n",
       "      <td>31.000000</td>\n",
       "      <td>28.000000</td>\n",
       "    </tr>\n",
       "    <tr>\n",
       "      <th>50%</th>\n",
       "      <td>6.869500e+05</td>\n",
       "      <td>8.0</td>\n",
       "      <td>500.000000</td>\n",
       "      <td>4.0</td>\n",
       "      <td>16.0</td>\n",
       "      <td>1015675.0</td>\n",
       "      <td>83.000000</td>\n",
       "      <td>2.000000</td>\n",
       "      <td>1.000000</td>\n",
       "      <td>1.000000</td>\n",
       "      <td>...</td>\n",
       "      <td>74.000000</td>\n",
       "      <td>73.00000</td>\n",
       "      <td>75.00000</td>\n",
       "      <td>74.000000</td>\n",
       "      <td>75.000000</td>\n",
       "      <td>75.000000</td>\n",
       "      <td>74.000000</td>\n",
       "      <td>73.000000</td>\n",
       "      <td>74.000000</td>\n",
       "      <td>72.000000</td>\n",
       "    </tr>\n",
       "    <tr>\n",
       "      <th>75%</th>\n",
       "      <td>1.024785e+06</td>\n",
       "      <td>8.0</td>\n",
       "      <td>700.000000</td>\n",
       "      <td>4.0</td>\n",
       "      <td>16.0</td>\n",
       "      <td>1015675.0</td>\n",
       "      <td>115.000000</td>\n",
       "      <td>3.000000</td>\n",
       "      <td>1.000000</td>\n",
       "      <td>2.000000</td>\n",
       "      <td>...</td>\n",
       "      <td>126.000000</td>\n",
       "      <td>125.00000</td>\n",
       "      <td>124.00000</td>\n",
       "      <td>124.000000</td>\n",
       "      <td>125.000000</td>\n",
       "      <td>124.000000</td>\n",
       "      <td>125.000000</td>\n",
       "      <td>125.000000</td>\n",
       "      <td>124.000000</td>\n",
       "      <td>126.000000</td>\n",
       "    </tr>\n",
       "    <tr>\n",
       "      <th>max</th>\n",
       "      <td>1.358490e+06</td>\n",
       "      <td>8.0</td>\n",
       "      <td>900.000000</td>\n",
       "      <td>4.0</td>\n",
       "      <td>16.0</td>\n",
       "      <td>1015675.0</td>\n",
       "      <td>588.000000</td>\n",
       "      <td>11.000000</td>\n",
       "      <td>3.000000</td>\n",
       "      <td>3.000000</td>\n",
       "      <td>...</td>\n",
       "      <td>918.000000</td>\n",
       "      <td>891.00000</td>\n",
       "      <td>832.00000</td>\n",
       "      <td>1023.000000</td>\n",
       "      <td>880.000000</td>\n",
       "      <td>815.000000</td>\n",
       "      <td>908.000000</td>\n",
       "      <td>1010.000000</td>\n",
       "      <td>847.000000</td>\n",
       "      <td>897.000000</td>\n",
       "    </tr>\n",
       "  </tbody>\n",
       "</table>\n",
       "<p>8 rows × 187 columns</p>\n",
       "</div>"
      ],
      "text/plain": [
       "           SERIALNO  DIVISION         PUMA  REGION      ST     ADJUST  \\\n",
       "count  6.496000e+03    6496.0  6496.000000  6496.0  6496.0     6496.0   \n",
       "mean   6.841337e+05       8.0   486.222291     4.0    16.0  1015675.0   \n",
       "std    3.906547e+05       0.0   270.498896     0.0     0.0        0.0   \n",
       "min    1.860000e+02       8.0   100.000000     4.0    16.0  1015675.0   \n",
       "25%    3.464415e+05       8.0   300.000000     4.0    16.0  1015675.0   \n",
       "50%    6.869500e+05       8.0   500.000000     4.0    16.0  1015675.0   \n",
       "75%    1.024785e+06       8.0   700.000000     4.0    16.0  1015675.0   \n",
       "max    1.358490e+06       8.0   900.000000     4.0    16.0  1015675.0   \n",
       "\n",
       "              WGTP           NP         TYPE          ACR  ...       wgtp71  \\\n",
       "count  6496.000000  6496.000000  6496.000000  5501.000000  ...  6496.000000   \n",
       "mean     94.781866     2.298491     1.069581     1.357026  ...    94.791564   \n",
       "std      73.523809     1.563549     0.315509     0.624471  ...    92.988570   \n",
       "min       0.000000     0.000000     1.000000     1.000000  ...     0.000000   \n",
       "25%      50.000000     1.000000     1.000000     1.000000  ...    30.000000   \n",
       "50%      83.000000     2.000000     1.000000     1.000000  ...    74.000000   \n",
       "75%     115.000000     3.000000     1.000000     2.000000  ...   126.000000   \n",
       "max     588.000000    11.000000     3.000000     3.000000  ...   918.000000   \n",
       "\n",
       "           wgtp72      wgtp73       wgtp74       wgtp75       wgtp76  \\\n",
       "count  6496.00000  6496.00000  6496.000000  6496.000000  6496.000000   \n",
       "mean     94.77694    94.77186    94.780172    94.769243    94.786330   \n",
       "std      95.56488    91.49636    93.275930    92.415760    92.950416   \n",
       "min       0.00000     0.00000     0.000000     0.000000     0.000000   \n",
       "25%      29.00000    31.00000    30.000000    30.000000    30.000000   \n",
       "50%      73.00000    75.00000    74.000000    75.000000    75.000000   \n",
       "75%     125.00000   124.00000   124.000000   125.000000   124.000000   \n",
       "max     891.00000   832.00000  1023.000000   880.000000   815.000000   \n",
       "\n",
       "            wgtp77       wgtp78       wgtp79       wgtp80  \n",
       "count  6496.000000  6496.000000  6496.000000  6496.000000  \n",
       "mean     94.783867    94.773399    94.775400    94.777401  \n",
       "std      92.465471    94.253192    92.665848    97.097489  \n",
       "min       0.000000     0.000000     0.000000     0.000000  \n",
       "25%      30.000000    30.000000    31.000000    28.000000  \n",
       "50%      74.000000    73.000000    74.000000    72.000000  \n",
       "75%     125.000000   125.000000   124.000000   126.000000  \n",
       "max     908.000000  1010.000000   847.000000   897.000000  \n",
       "\n",
       "[8 rows x 187 columns]"
      ]
     },
     "execution_count": 154,
     "metadata": {},
     "output_type": "execute_result"
    }
   ],
   "source": [
    "housing_df.describe()"
   ]
  },
  {
   "cell_type": "markdown",
   "metadata": {},
   "source": [
    "# Question 1: Properties worth more than $1,000,000"
   ]
  },
  {
   "cell_type": "code",
   "execution_count": 104,
   "metadata": {},
   "outputs": [
    {
     "name": "stdout",
     "output_type": "stream",
     "text": [
      "There are 53 properties worth more than $1,000,000\n"
     ]
    }
   ],
   "source": [
    "million_count = housing_df[housing_df[\"VAL\"]==24].shape[0]\n",
    "print(f\"There are { million_count } properties worth more than $1,000,000\")"
   ]
  },
  {
   "cell_type": "code",
   "execution_count": 150,
   "metadata": {},
   "outputs": [
    {
     "data": {
      "image/png": "[encoded data removed]",
      "text/plain": [
       "<Figure size 1080x576 with 1 Axes>"
      ]
     },
     "metadata": {
      "needs_background": "light"
     },
     "output_type": "display_data"
    }
   ],
   "source": [
    "bar = sns.histplot(x=housing_df.VAL)\n",
    "bar.patches[len(bar.patches)-1].set_facecolor('#FF0000')"
   ]
  },
  {
   "cell_type": "markdown",
   "metadata": {},
   "source": [
    "# Question 2: Average of people recorded in house"
   ]
  },
  {
   "cell_type": "code",
   "execution_count": 94,
   "metadata": {},
   "outputs": [
    {
     "data": {
      "text/plain": [
       "<seaborn.axisgrid.FacetGrid at 0x7f808947a790>"
      ]
     },
     "execution_count": 94,
     "metadata": {},
     "output_type": "execute_result"
    },
    {
     "data": {
      "image/png": "[encoded data removed]",
      "text/plain": [
       "<Figure size 360x360 with 1 Axes>"
      ]
     },
     "metadata": {
      "needs_background": "light"
     },
     "output_type": "display_data"
    }
   ],
   "source": [
    "sns.displot(x=housing_df.NP)"
   ]
  },
  {
   "cell_type": "code",
   "execution_count": 95,
   "metadata": {},
   "outputs": [
    {
     "name": "stdout",
     "output_type": "stream",
     "text": [
      "There are in average 2.2984913793103448 persons recorded in a house\n"
     ]
    }
   ],
   "source": [
    "average_recorded = housing_df[\"NP\"].mean()\n",
    "print(f\"There are in average { average_recorded } persons recorded in a house\")"
   ]
  },
  {
   "cell_type": "markdown",
   "metadata": {},
   "source": [
    "# Question 3: Property value vs Persons recorded"
   ]
  },
  {
   "cell_type": "code",
   "execution_count": 96,
   "metadata": {},
   "outputs": [
    {
     "data": {
      "text/plain": [
       "<AxesSubplot:xlabel='NP', ylabel='VAL'>"
      ]
     },
     "execution_count": 96,
     "metadata": {},
     "output_type": "execute_result"
    },
    {
     "data": {
      "image/png": "[encoded data removed]",
      "text/plain": [
       "<Figure size 1080x576 with 1 Axes>"
      ]
     },
     "metadata": {
      "needs_background": "light"
     },
     "output_type": "display_data"
    }
   ],
   "source": [
    "sns.regplot(x=housing_df.NP, y=housing_df.VAL)"
   ]
  },
  {
   "cell_type": "markdown",
   "metadata": {},
   "source": [
    "# Question 4: Normalization"
   ]
  },
  {
   "cell_type": "markdown",
   "metadata": {},
   "source": [
    "Unnormalized"
   ]
  },
  {
   "cell_type": "code",
   "execution_count": 97,
   "metadata": {},
   "outputs": [
    {
     "data": {
      "text/plain": [
       "<AxesSubplot:xlabel='FINCP', ylabel='Count'>"
      ]
     },
     "execution_count": 97,
     "metadata": {},
     "output_type": "execute_result"
    },
    {
     "data": {
      "image/png": "[encoded data removed]",
      "text/plain": [
       "<Figure size 1080x576 with 1 Axes>"
      ]
     },
     "metadata": {
      "needs_background": "light"
     },
     "output_type": "display_data"
    }
   ],
   "source": [
    "sns.histplot(x=housing_df.FINCP)"
   ]
  },
  {
   "cell_type": "markdown",
   "metadata": {},
   "source": [
    "Normalized"
   ]
  },
  {
   "cell_type": "code",
   "execution_count": 98,
   "metadata": {},
   "outputs": [
    {
     "data": {
      "text/plain": [
       "<AxesSubplot:xlabel='FINCP', ylabel='Count'>"
      ]
     },
     "execution_count": 98,
     "metadata": {},
     "output_type": "execute_result"
    },
    {
     "data": {
      "image/png": "[encoded data removed]",
      "text/plain": [
       "<Figure size 1080x576 with 1 Axes>"
      ]
     },
     "metadata": {
      "needs_background": "light"
     },
     "output_type": "display_data"
    }
   ],
   "source": [
    "fin_income = housing_df.FINCP\n",
    "fin_norm = (fin_income - fin_income.min())/(fin_income.max() - fin_income.min())\n",
    "sns.histplot(x=fin_norm)"
   ]
  },
  {
   "cell_type": "markdown",
   "metadata": {},
   "source": [
    "# Question 5: Divide into 5 bins"
   ]
  },
  {
   "cell_type": "code",
   "execution_count": 156,
   "metadata": {},
   "outputs": [
    {
     "data": {
      "text/plain": [
       "count      4051.000000\n",
       "mean      61311.406813\n",
       "std       48632.063845\n",
       "min      -14299.000000\n",
       "25%       30400.000000\n",
       "50%       50700.000000\n",
       "75%       76500.000000\n",
       "max      472600.000000\n",
       "Name: FINCP, dtype: float64"
      ]
     },
     "execution_count": 156,
     "metadata": {},
     "output_type": "execute_result"
    }
   ],
   "source": [
    "fin_income.describe()"
   ]
  },
  {
   "cell_type": "markdown",
   "metadata": {},
   "source": [
    "### Divide dataframe into quantile-based bins"
   ]
  },
  {
   "cell_type": "code",
   "execution_count": 99,
   "metadata": {},
   "outputs": [
    {
     "data": {
      "text/plain": [
       "(-14299.001, 26600.0]    812\n",
       "(41500.0, 59970.0]       810\n",
       "(59970.0, 84500.0]       810\n",
       "(84500.0, 472600.0]      810\n",
       "(26600.0, 41500.0]       809\n",
       "Name: FINCP, dtype: int64"
      ]
     },
     "execution_count": 99,
     "metadata": {},
     "output_type": "execute_result"
    }
   ],
   "source": [
    "n_bin = 5\n",
    "fin_income = fin_income.sort_values()\n",
    "a, bin_edges = pd.qcut(fin_income, n_bin, retbins=True)\n",
    "a.value_counts()"
   ]
  },
  {
   "cell_type": "code",
   "execution_count": 100,
   "metadata": {},
   "outputs": [
    {
     "name": "stdout",
     "output_type": "stream",
     "text": [
      "Bin #1\t(, 26600.0]\t\tCount: 812\n",
      "Bin #2\t(26600.0, 41500.0]\tCount: 809\n",
      "Bin #3\t(41500.0, 59970.0]\tCount: 810\n",
      "Bin #4\t(59970.0, 84500.0]\tCount: 810\n",
      "Bin #5\t(84500.0, 472600.0]\tCount: 810\n",
      "Total count: 4051\n"
     ]
    }
   ],
   "source": [
    "import functools\n",
    "df_bins = []\n",
    "for i in range(len(bin_edges)-1):\n",
    "  if i == 0:\n",
    "    fin_bin = fin_income[fin_income <= bin_edges[i+1]]\n",
    "    print(f\"Bin #{i+1}\\t(, {bin_edges[i+1]}]\\t\\tCount: {fin_bin.shape[0]}\")\n",
    "  else:\n",
    "    fin_bin = fin_income[(fin_income > bin_edges[i]) & (fin_income <= bin_edges[i+1])]\n",
    "    print(f\"Bin #{i+1}\\t({'{:.1f}'.format(bin_edges[i])}, {'{:.1f}'.format(bin_edges[i+1])}]\\tCount: {fin_bin.shape[0]}\")\n",
    "  df_bins.append(fin_bin)\n",
    "print(f\"Total count: {sum(map(lambda x: x.shape[0], df_bins))}\")"
   ]
  },
  {
   "cell_type": "markdown",
   "metadata": {},
   "source": [
    "### Visualization"
   ]
  },
  {
   "cell_type": "markdown",
   "metadata": {},
   "source": [
    "Values in each bin"
   ]
  },
  {
   "cell_type": "code",
   "execution_count": 101,
   "metadata": {},
   "outputs": [
    {
     "data": {
      "image/png": "[encoded data removed]",
      "text/plain": [
       "<Figure size 1080x576 with 5 Axes>"
      ]
     },
     "metadata": {
      "needs_background": "light"
     },
     "output_type": "display_data"
    }
   ],
   "source": [
    "_, axs = plt.subplots(ncols=n_bin)\n",
    "for i in range(n_bin):\n",
    "  axs[i].title.set(text=f\"Bin #{i+1}\")\n",
    "  sns.histplot(x=df_bins[i], ax=axs[i])"
   ]
  },
  {
   "cell_type": "markdown",
   "metadata": {},
   "source": [
    "Element count per bin"
   ]
  },
  {
   "cell_type": "code",
   "execution_count": 120,
   "metadata": {},
   "outputs": [
    {
     "data": {
      "text/plain": [
       "<AxesSubplot:xlabel='BINS', ylabel='COUNT'>"
      ]
     },
     "execution_count": 120,
     "metadata": {},
     "output_type": "execute_result"
    },
    {
     "data": {
      "image/png": "[encoded data removed]",
      "text/plain": [
       "<Figure size 1080x576 with 1 Axes>"
      ]
     },
     "metadata": {
      "needs_background": "light"
     },
     "output_type": "display_data"
    }
   ],
   "source": [
    "df_count = pd.DataFrame(map(lambda df: df.shape[0], df_bins), columns=[\"COUNT\"])\n",
    "df_count[\"BINS\"] = [f\"Bin #{i+1}\" for i in range(n_bin)]\n",
    "sns.barplot(x=df_count.BINS, y=df_count.COUNT)"
   ]
  },
  {
   "cell_type": "code",
   "execution_count": null,
   "metadata": {},
   "outputs": [],
   "source": []
  }
 ],
 "metadata": {
  "interpreter": {
   "hash": "40d3a090f54c6569ab1632332b64b2c03c39dcf918b08424e98f38b5ae0af88f"
  },
  "kernelspec": {
   "display_name": "Python 3.8.8 64-bit ('base': conda)",
   "language": "python",
   "name": "python3"
  },
  "language_info": {
   "codemirror_mode": {
    "name": "ipython",
    "version": 3
   },
   "file_extension": ".py",
   "mimetype": "text/x-python",
   "name": "python",
   "nbconvert_exporter": "python",
   "pygments_lexer": "ipython3",
   "version": "3.8.8"
  },
  "orig_nbformat": 4
 },
 "nbformat": 4,
 "nbformat_minor": 2
}
