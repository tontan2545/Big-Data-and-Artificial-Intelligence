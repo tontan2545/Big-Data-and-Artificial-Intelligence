{
 "cells": [
  {
   "cell_type": "markdown",
   "metadata": {},
   "source": [
    "# Imports"
   ]
  },
  {
   "cell_type": "code",
   "execution_count": 40,
   "metadata": {},
   "outputs": [],
   "source": [
    "import pandas as pd\n",
    "import numpy as np\n",
    "import seaborn as sns\n",
    "import matplotlib \n",
    "import matplotlib.pyplot as plt\n",
    "from sklearn.preprocessing import MinMaxScaler\n",
    "matplotlib.rcParams['figure.figsize'] = (15, 8)"
   ]
  },
  {
   "cell_type": "code",
   "execution_count": 41,
   "metadata": {},
   "outputs": [
    {
     "data": {
      "text/html": [
       "<div>\n",
       "<style scoped>\n",
       "    .dataframe tbody tr th:only-of-type {\n",
       "        vertical-align: middle;\n",
       "    }\n",
       "\n",
       "    .dataframe tbody tr th {\n",
       "        vertical-align: top;\n",
       "    }\n",
       "\n",
       "    .dataframe thead th {\n",
       "        text-align: right;\n",
       "    }\n",
       "</style>\n",
       "<table border=\"1\" class=\"dataframe\">\n",
       "  <thead>\n",
       "    <tr style=\"text-align: right;\">\n",
       "      <th></th>\n",
       "      <th>RT</th>\n",
       "      <th>SERIALNO</th>\n",
       "      <th>DIVISION</th>\n",
       "      <th>PUMA</th>\n",
       "      <th>REGION</th>\n",
       "      <th>ST</th>\n",
       "      <th>ADJUST</th>\n",
       "      <th>WGTP</th>\n",
       "      <th>NP</th>\n",
       "      <th>TYPE</th>\n",
       "      <th>...</th>\n",
       "      <th>wgtp71</th>\n",
       "      <th>wgtp72</th>\n",
       "      <th>wgtp73</th>\n",
       "      <th>wgtp74</th>\n",
       "      <th>wgtp75</th>\n",
       "      <th>wgtp76</th>\n",
       "      <th>wgtp77</th>\n",
       "      <th>wgtp78</th>\n",
       "      <th>wgtp79</th>\n",
       "      <th>wgtp80</th>\n",
       "    </tr>\n",
       "  </thead>\n",
       "  <tbody>\n",
       "    <tr>\n",
       "      <th>0</th>\n",
       "      <td>H</td>\n",
       "      <td>186</td>\n",
       "      <td>8</td>\n",
       "      <td>700</td>\n",
       "      <td>4</td>\n",
       "      <td>16</td>\n",
       "      <td>1015675</td>\n",
       "      <td>89</td>\n",
       "      <td>4</td>\n",
       "      <td>1</td>\n",
       "      <td>...</td>\n",
       "      <td>81</td>\n",
       "      <td>27</td>\n",
       "      <td>93</td>\n",
       "      <td>151</td>\n",
       "      <td>28</td>\n",
       "      <td>79</td>\n",
       "      <td>25</td>\n",
       "      <td>101</td>\n",
       "      <td>157</td>\n",
       "      <td>129</td>\n",
       "    </tr>\n",
       "    <tr>\n",
       "      <th>1</th>\n",
       "      <td>H</td>\n",
       "      <td>306</td>\n",
       "      <td>8</td>\n",
       "      <td>700</td>\n",
       "      <td>4</td>\n",
       "      <td>16</td>\n",
       "      <td>1015675</td>\n",
       "      <td>310</td>\n",
       "      <td>1</td>\n",
       "      <td>1</td>\n",
       "      <td>...</td>\n",
       "      <td>292</td>\n",
       "      <td>401</td>\n",
       "      <td>81</td>\n",
       "      <td>494</td>\n",
       "      <td>346</td>\n",
       "      <td>496</td>\n",
       "      <td>615</td>\n",
       "      <td>286</td>\n",
       "      <td>454</td>\n",
       "      <td>260</td>\n",
       "    </tr>\n",
       "    <tr>\n",
       "      <th>2</th>\n",
       "      <td>H</td>\n",
       "      <td>395</td>\n",
       "      <td>8</td>\n",
       "      <td>100</td>\n",
       "      <td>4</td>\n",
       "      <td>16</td>\n",
       "      <td>1015675</td>\n",
       "      <td>106</td>\n",
       "      <td>2</td>\n",
       "      <td>1</td>\n",
       "      <td>...</td>\n",
       "      <td>123</td>\n",
       "      <td>119</td>\n",
       "      <td>168</td>\n",
       "      <td>107</td>\n",
       "      <td>95</td>\n",
       "      <td>101</td>\n",
       "      <td>30</td>\n",
       "      <td>124</td>\n",
       "      <td>106</td>\n",
       "      <td>31</td>\n",
       "    </tr>\n",
       "    <tr>\n",
       "      <th>3</th>\n",
       "      <td>H</td>\n",
       "      <td>506</td>\n",
       "      <td>8</td>\n",
       "      <td>700</td>\n",
       "      <td>4</td>\n",
       "      <td>16</td>\n",
       "      <td>1015675</td>\n",
       "      <td>240</td>\n",
       "      <td>4</td>\n",
       "      <td>1</td>\n",
       "      <td>...</td>\n",
       "      <td>68</td>\n",
       "      <td>359</td>\n",
       "      <td>385</td>\n",
       "      <td>71</td>\n",
       "      <td>234</td>\n",
       "      <td>421</td>\n",
       "      <td>76</td>\n",
       "      <td>77</td>\n",
       "      <td>242</td>\n",
       "      <td>231</td>\n",
       "    </tr>\n",
       "    <tr>\n",
       "      <th>4</th>\n",
       "      <td>H</td>\n",
       "      <td>835</td>\n",
       "      <td>8</td>\n",
       "      <td>800</td>\n",
       "      <td>4</td>\n",
       "      <td>16</td>\n",
       "      <td>1015675</td>\n",
       "      <td>118</td>\n",
       "      <td>4</td>\n",
       "      <td>1</td>\n",
       "      <td>...</td>\n",
       "      <td>127</td>\n",
       "      <td>36</td>\n",
       "      <td>119</td>\n",
       "      <td>121</td>\n",
       "      <td>116</td>\n",
       "      <td>209</td>\n",
       "      <td>97</td>\n",
       "      <td>176</td>\n",
       "      <td>144</td>\n",
       "      <td>38</td>\n",
       "    </tr>\n",
       "    <tr>\n",
       "      <th>...</th>\n",
       "      <td>...</td>\n",
       "      <td>...</td>\n",
       "      <td>...</td>\n",
       "      <td>...</td>\n",
       "      <td>...</td>\n",
       "      <td>...</td>\n",
       "      <td>...</td>\n",
       "      <td>...</td>\n",
       "      <td>...</td>\n",
       "      <td>...</td>\n",
       "      <td>...</td>\n",
       "      <td>...</td>\n",
       "      <td>...</td>\n",
       "      <td>...</td>\n",
       "      <td>...</td>\n",
       "      <td>...</td>\n",
       "      <td>...</td>\n",
       "      <td>...</td>\n",
       "      <td>...</td>\n",
       "      <td>...</td>\n",
       "      <td>...</td>\n",
       "    </tr>\n",
       "    <tr>\n",
       "      <th>6491</th>\n",
       "      <td>H</td>\n",
       "      <td>1357238</td>\n",
       "      <td>8</td>\n",
       "      <td>300</td>\n",
       "      <td>4</td>\n",
       "      <td>16</td>\n",
       "      <td>1015675</td>\n",
       "      <td>108</td>\n",
       "      <td>2</td>\n",
       "      <td>1</td>\n",
       "      <td>...</td>\n",
       "      <td>198</td>\n",
       "      <td>88</td>\n",
       "      <td>112</td>\n",
       "      <td>26</td>\n",
       "      <td>64</td>\n",
       "      <td>106</td>\n",
       "      <td>142</td>\n",
       "      <td>106</td>\n",
       "      <td>33</td>\n",
       "      <td>111</td>\n",
       "    </tr>\n",
       "    <tr>\n",
       "      <th>6492</th>\n",
       "      <td>H</td>\n",
       "      <td>1357340</td>\n",
       "      <td>8</td>\n",
       "      <td>400</td>\n",
       "      <td>4</td>\n",
       "      <td>16</td>\n",
       "      <td>1015675</td>\n",
       "      <td>58</td>\n",
       "      <td>2</td>\n",
       "      <td>1</td>\n",
       "      <td>...</td>\n",
       "      <td>66</td>\n",
       "      <td>101</td>\n",
       "      <td>62</td>\n",
       "      <td>52</td>\n",
       "      <td>105</td>\n",
       "      <td>75</td>\n",
       "      <td>20</td>\n",
       "      <td>127</td>\n",
       "      <td>105</td>\n",
       "      <td>68</td>\n",
       "    </tr>\n",
       "    <tr>\n",
       "      <th>6493</th>\n",
       "      <td>H</td>\n",
       "      <td>1357874</td>\n",
       "      <td>8</td>\n",
       "      <td>900</td>\n",
       "      <td>4</td>\n",
       "      <td>16</td>\n",
       "      <td>1015675</td>\n",
       "      <td>32</td>\n",
       "      <td>2</td>\n",
       "      <td>1</td>\n",
       "      <td>...</td>\n",
       "      <td>7</td>\n",
       "      <td>8</td>\n",
       "      <td>12</td>\n",
       "      <td>37</td>\n",
       "      <td>44</td>\n",
       "      <td>36</td>\n",
       "      <td>28</td>\n",
       "      <td>33</td>\n",
       "      <td>48</td>\n",
       "      <td>59</td>\n",
       "    </tr>\n",
       "    <tr>\n",
       "      <th>6494</th>\n",
       "      <td>H</td>\n",
       "      <td>1357880</td>\n",
       "      <td>8</td>\n",
       "      <td>500</td>\n",
       "      <td>4</td>\n",
       "      <td>16</td>\n",
       "      <td>1015675</td>\n",
       "      <td>123</td>\n",
       "      <td>2</td>\n",
       "      <td>1</td>\n",
       "      <td>...</td>\n",
       "      <td>201</td>\n",
       "      <td>123</td>\n",
       "      <td>38</td>\n",
       "      <td>104</td>\n",
       "      <td>186</td>\n",
       "      <td>203</td>\n",
       "      <td>132</td>\n",
       "      <td>118</td>\n",
       "      <td>201</td>\n",
       "      <td>125</td>\n",
       "    </tr>\n",
       "    <tr>\n",
       "      <th>6495</th>\n",
       "      <td>H</td>\n",
       "      <td>1358490</td>\n",
       "      <td>8</td>\n",
       "      <td>700</td>\n",
       "      <td>4</td>\n",
       "      <td>16</td>\n",
       "      <td>1015675</td>\n",
       "      <td>353</td>\n",
       "      <td>2</td>\n",
       "      <td>1</td>\n",
       "      <td>...</td>\n",
       "      <td>312</td>\n",
       "      <td>558</td>\n",
       "      <td>372</td>\n",
       "      <td>102</td>\n",
       "      <td>108</td>\n",
       "      <td>381</td>\n",
       "      <td>340</td>\n",
       "      <td>114</td>\n",
       "      <td>563</td>\n",
       "      <td>358</td>\n",
       "    </tr>\n",
       "  </tbody>\n",
       "</table>\n",
       "<p>6496 rows × 188 columns</p>\n",
       "</div>"
      ],
      "text/plain": [
       "     RT  SERIALNO  DIVISION  PUMA  REGION  ST   ADJUST  WGTP  NP  TYPE  ...  \\\n",
       "0     H       186         8   700       4  16  1015675    89   4     1  ...   \n",
       "1     H       306         8   700       4  16  1015675   310   1     1  ...   \n",
       "2     H       395         8   100       4  16  1015675   106   2     1  ...   \n",
       "3     H       506         8   700       4  16  1015675   240   4     1  ...   \n",
       "4     H       835         8   800       4  16  1015675   118   4     1  ...   \n",
       "...  ..       ...       ...   ...     ...  ..      ...   ...  ..   ...  ...   \n",
       "6491  H   1357238         8   300       4  16  1015675   108   2     1  ...   \n",
       "6492  H   1357340         8   400       4  16  1015675    58   2     1  ...   \n",
       "6493  H   1357874         8   900       4  16  1015675    32   2     1  ...   \n",
       "6494  H   1357880         8   500       4  16  1015675   123   2     1  ...   \n",
       "6495  H   1358490         8   700       4  16  1015675   353   2     1  ...   \n",
       "\n",
       "      wgtp71  wgtp72  wgtp73  wgtp74  wgtp75  wgtp76  wgtp77  wgtp78  wgtp79  \\\n",
       "0         81      27      93     151      28      79      25     101     157   \n",
       "1        292     401      81     494     346     496     615     286     454   \n",
       "2        123     119     168     107      95     101      30     124     106   \n",
       "3         68     359     385      71     234     421      76      77     242   \n",
       "4        127      36     119     121     116     209      97     176     144   \n",
       "...      ...     ...     ...     ...     ...     ...     ...     ...     ...   \n",
       "6491     198      88     112      26      64     106     142     106      33   \n",
       "6492      66     101      62      52     105      75      20     127     105   \n",
       "6493       7       8      12      37      44      36      28      33      48   \n",
       "6494     201     123      38     104     186     203     132     118     201   \n",
       "6495     312     558     372     102     108     381     340     114     563   \n",
       "\n",
       "      wgtp80  \n",
       "0        129  \n",
       "1        260  \n",
       "2         31  \n",
       "3        231  \n",
       "4         38  \n",
       "...      ...  \n",
       "6491     111  \n",
       "6492      68  \n",
       "6493      59  \n",
       "6494     125  \n",
       "6495     358  \n",
       "\n",
       "[6496 rows x 188 columns]"
      ]
     },
     "execution_count": 41,
     "metadata": {},
     "output_type": "execute_result"
    }
   ],
   "source": [
    "housing_df = pd.read_csv(\"./HW2_Housing_Survey.csv\")\n",
    "housing_df"
   ]
  },
  {
   "cell_type": "code",
   "execution_count": 42,
   "metadata": {},
   "outputs": [
    {
     "data": {
      "text/plain": [
       "<seaborn.axisgrid.FacetGrid at 0x7f80acdcb9d0>"
      ]
     },
     "execution_count": 42,
     "metadata": {},
     "output_type": "execute_result"
    },
    {
     "data": {
      "image/png": "[encoded data removed]",
      "text/plain": [
       "<Figure size 360x360 with 1 Axes>"
      ]
     },
     "metadata": {
      "needs_background": "light"
     },
     "output_type": "display_data"
    }
   ],
   "source": [
    "sns.displot(x=housing_df.VAL)"
   ]
  },
  {
   "cell_type": "markdown",
   "metadata": {},
   "source": [
    "# Question 1: Properties worth more than $1,000,000"
   ]
  },
  {
   "cell_type": "code",
   "execution_count": 60,
   "metadata": {},
   "outputs": [
    {
     "name": "stdout",
     "output_type": "stream",
     "text": [
      "There are 53 properties worth more than $1,000,000\n"
     ]
    },
    {
     "data": {
      "text/plain": [
       "<seaborn.axisgrid.FacetGrid at 0x7f80997b0580>"
      ]
     },
     "execution_count": 60,
     "metadata": {},
     "output_type": "execute_result"
    },
    {
     "data": {
      "image/png": "[encoded data removed]",
      "text/plain": [
       "<Figure size 360x360 with 1 Axes>"
      ]
     },
     "metadata": {
      "needs_background": "light"
     },
     "output_type": "display_data"
    }
   ],
   "source": [
    "million_count = housing_df[housing_df[\"VAL\"]==24].shape[0]\n",
    "print(f\"There are { million_count } properties worth more than $1,000,000\")\n",
    "sns.displot(x=housing_df[housing_df[\"VAL\"]==24][\"VAL\"])"
   ]
  },
  {
   "cell_type": "markdown",
   "metadata": {},
   "source": [
    "# Question 2: Average of people recorded in house"
   ]
  },
  {
   "cell_type": "code",
   "execution_count": 44,
   "metadata": {},
   "outputs": [
    {
     "data": {
      "text/plain": [
       "<seaborn.axisgrid.FacetGrid at 0x7f8088eb4400>"
      ]
     },
     "execution_count": 44,
     "metadata": {},
     "output_type": "execute_result"
    },
    {
     "data": {
      "image/png": "[encoded data removed]",
      "text/plain": [
       "<Figure size 360x360 with 1 Axes>"
      ]
     },
     "metadata": {
      "needs_background": "light"
     },
     "output_type": "display_data"
    }
   ],
   "source": [
    "sns.displot(x=housing_df.NP)"
   ]
  },
  {
   "cell_type": "code",
   "execution_count": 45,
   "metadata": {},
   "outputs": [
    {
     "name": "stdout",
     "output_type": "stream",
     "text": [
      "There are in average 2.2984913793103448 persons recorded in a house\n"
     ]
    }
   ],
   "source": [
    "average_recorded = housing_df[\"NP\"].mean()\n",
    "print(f\"There are in average { average_recorded } persons recorded in a house\")"
   ]
  },
  {
   "cell_type": "markdown",
   "metadata": {},
   "source": [
    "# Question 3: Property value vs Persons recorded"
   ]
  },
  {
   "cell_type": "code",
   "execution_count": 46,
   "metadata": {},
   "outputs": [
    {
     "data": {
      "text/plain": [
       "<AxesSubplot:xlabel='NP', ylabel='VAL'>"
      ]
     },
     "execution_count": 46,
     "metadata": {},
     "output_type": "execute_result"
    },
    {
     "data": {
      "image/png": "[encoded data removed]",
      "text/plain": [
       "<Figure size 1080x576 with 1 Axes>"
      ]
     },
     "metadata": {
      "needs_background": "light"
     },
     "output_type": "display_data"
    }
   ],
   "source": [
    "sns.regplot(x=housing_df.NP, y=housing_df.VAL)"
   ]
  },
  {
   "cell_type": "markdown",
   "metadata": {},
   "source": [
    "# Question 4: Normalization"
   ]
  },
  {
   "cell_type": "markdown",
   "metadata": {},
   "source": [
    "Unnormalized"
   ]
  },
  {
   "cell_type": "code",
   "execution_count": 47,
   "metadata": {},
   "outputs": [
    {
     "data": {
      "text/plain": [
       "<AxesSubplot:xlabel='FINCP', ylabel='Count'>"
      ]
     },
     "execution_count": 47,
     "metadata": {},
     "output_type": "execute_result"
    },
    {
     "data": {
      "image/png": "[encoded data removed]",
      "text/plain": [
       "<Figure size 1080x576 with 1 Axes>"
      ]
     },
     "metadata": {
      "needs_background": "light"
     },
     "output_type": "display_data"
    }
   ],
   "source": [
    "sns.histplot(x=housing_df.FINCP)"
   ]
  },
  {
   "cell_type": "markdown",
   "metadata": {},
   "source": [
    "Normalized"
   ]
  },
  {
   "cell_type": "code",
   "execution_count": 48,
   "metadata": {},
   "outputs": [
    {
     "data": {
      "text/plain": [
       "<AxesSubplot:xlabel='FINCP', ylabel='Count'>"
      ]
     },
     "execution_count": 48,
     "metadata": {},
     "output_type": "execute_result"
    },
    {
     "data": {
      "image/png": "[encoded data removed]",
      "text/plain": [
       "<Figure size 1080x576 with 1 Axes>"
      ]
     },
     "metadata": {
      "needs_background": "light"
     },
     "output_type": "display_data"
    }
   ],
   "source": [
    "fin_income = housing_df.FINCP\n",
    "fin_norm = (fin_income - fin_income.min())/(fin_income.max() - fin_income.min())\n",
    "sns.histplot(x=fin_norm)"
   ]
  },
  {
   "cell_type": "markdown",
   "metadata": {},
   "source": [
    "# Question 5: Divide into 5 bins"
   ]
  },
  {
   "cell_type": "markdown",
   "metadata": {},
   "source": [
    "### Divide dataframe into quantile-based bins"
   ]
  },
  {
   "cell_type": "code",
   "execution_count": 49,
   "metadata": {},
   "outputs": [
    {
     "data": {
      "text/plain": [
       "(-14299.001, 26600.0]    812\n",
       "(41500.0, 59970.0]       810\n",
       "(59970.0, 84500.0]       810\n",
       "(84500.0, 472600.0]      810\n",
       "(26600.0, 41500.0]       809\n",
       "Name: FINCP, dtype: int64"
      ]
     },
     "execution_count": 49,
     "metadata": {},
     "output_type": "execute_result"
    }
   ],
   "source": [
    "n_bin = 5\n",
    "fin_income = fin_income.sort_values()\n",
    "a, bin_edges = pd.qcut(fin_income, n_bin, retbins=True)\n",
    "a.value_counts()"
   ]
  },
  {
   "cell_type": "code",
   "execution_count": 50,
   "metadata": {},
   "outputs": [
    {
     "name": "stdout",
     "output_type": "stream",
     "text": [
      "(, 26600.0] 812\n",
      "(26600.0, 41500.0] 809\n",
      "(41500.0, 59970.000000000015] 810\n",
      "(59970.000000000015, 84500.0] 810\n",
      "(84500.0, 472600.0] 810\n"
     ]
    }
   ],
   "source": [
    "df_bins = []\n",
    "for i in range(len(bin_edges)-1):\n",
    "  if i == 0:\n",
    "    fin_bin = fin_income[fin_income <= bin_edges[i+1]]\n",
    "    print(f\"(, {bin_edges[i+1]}] {fin_bin.shape[0]}\")\n",
    "  else:\n",
    "    fin_bin = fin_income[(fin_income > bin_edges[i]) & (fin_income <= bin_edges[i+1])]\n",
    "    print(f\"({bin_edges[i]}, {bin_edges[i+1]}] {fin_bin.shape[0]}\")\n",
    "  df_bins.append(fin_bin)"
   ]
  },
  {
   "cell_type": "markdown",
   "metadata": {},
   "source": [
    "### Visualization"
   ]
  },
  {
   "cell_type": "markdown",
   "metadata": {},
   "source": [
    "Values in each bin"
   ]
  },
  {
   "cell_type": "code",
   "execution_count": 51,
   "metadata": {},
   "outputs": [
    {
     "data": {
      "image/png": "[encoded data removed]",
      "text/plain": [
       "<Figure size 1080x576 with 5 Axes>"
      ]
     },
     "metadata": {
      "needs_background": "light"
     },
     "output_type": "display_data"
    }
   ],
   "source": [
    "_, axs = plt.subplots(ncols=n_bin)\n",
    "for i in range(n_bin):\n",
    "  axs[i].title.set(text=f\"Bin #{i+1}\")\n",
    "  sns.histplot(x=df_bins[i], ax=axs[i])"
   ]
  },
  {
   "cell_type": "markdown",
   "metadata": {},
   "source": [
    "Element count per bin"
   ]
  },
  {
   "cell_type": "code",
   "execution_count": 52,
   "metadata": {},
   "outputs": [
    {
     "data": {
      "text/plain": [
       "<AxesSubplot:xlabel='BINS', ylabel='COUNT'>"
      ]
     },
     "execution_count": 52,
     "metadata": {},
     "output_type": "execute_result"
    },
    {
     "data": {
      "image/png": "[encoded data removed]",
      "text/plain": [
       "<Figure size 1080x576 with 1 Axes>"
      ]
     },
     "metadata": {
      "needs_background": "light"
     },
     "output_type": "display_data"
    }
   ],
   "source": [
    "df_count = pd.DataFrame(map(lambda df: df.shape[0], df_bins), columns=[\"COUNT\"])\n",
    "df_count[\"BINS\"] = [f\"Bin #{i+1}\" for i in range(n_bin)]\n",
    "sns.barplot(x=df_count.BINS, y=df_count.COUNT)"
   ]
  }
 ],
 "metadata": {
  "interpreter": {
   "hash": "40d3a090f54c6569ab1632332b64b2c03c39dcf918b08424e98f38b5ae0af88f"
  },
  "kernelspec": {
   "display_name": "Python 3.8.8 64-bit ('base': conda)",
   "language": "python",
   "name": "python3"
  },
  "language_info": {
   "codemirror_mode": {
    "name": "ipython",
    "version": 3
   },
   "file_extension": ".py",
   "mimetype": "text/x-python",
   "name": "python",
   "nbconvert_exporter": "python",
   "pygments_lexer": "ipython3",
   "version": "3.8.8"
  },
  "orig_nbformat": 4
 },
 "nbformat": 4,
 "nbformat_minor": 2
}
